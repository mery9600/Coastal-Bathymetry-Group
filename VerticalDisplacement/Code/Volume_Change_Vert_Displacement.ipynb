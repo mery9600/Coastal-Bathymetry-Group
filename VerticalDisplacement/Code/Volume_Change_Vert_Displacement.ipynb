{
 "cells": [
  {
   "cell_type": "markdown",
   "id": "ef75e73b",
   "metadata": {},
   "source": [
    "## Volume change and vertical displacement\n",
    "The purpose of this code is to establish a model relationship between volume change (based on JABLTCX data) and elevation change/vertical displacement (based on ASF satellite data). \n",
    "\n",
    "### Is there any way to tie these JABLTCX data to geographic locations? I don't see coordinates anywhere..."
   ]
  },
  {
   "cell_type": "code",
   "execution_count": 27,
   "id": "cd73d117",
   "metadata": {},
   "outputs": [],
   "source": [
    "import pandas as pd\n",
    "import numpy as np\n",
    "import matplotlib.pyplot as plt\n",
    "import earthpy.plot as ep\n",
    "import rasterio as rio\n",
    "import rioxarray as rxr\n",
    "import scipy.stats as stats"
   ]
  },
  {
   "cell_type": "code",
   "execution_count": 2,
   "id": "2120c57e",
   "metadata": {},
   "outputs": [
    {
     "data": {
      "text/html": [
       "<div>\n",
       "<style scoped>\n",
       "    .dataframe tbody tr th:only-of-type {\n",
       "        vertical-align: middle;\n",
       "    }\n",
       "\n",
       "    .dataframe tbody tr th {\n",
       "        vertical-align: top;\n",
       "    }\n",
       "\n",
       "    .dataframe thead th {\n",
       "        text-align: right;\n",
       "    }\n",
       "</style>\n",
       "<table border=\"1\" class=\"dataframe\">\n",
       "  <thead>\n",
       "    <tr style=\"text-align: right;\">\n",
       "      <th></th>\n",
       "      <th>OBJECTID</th>\n",
       "      <th>State</th>\n",
       "      <th>Segment</th>\n",
       "      <th>stTranNum</th>\n",
       "      <th>MHW</th>\n",
       "      <th>dVol</th>\n",
       "      <th>dMean</th>\n",
       "      <th>dDensity</th>\n",
       "      <th>Start_Date</th>\n",
       "      <th>End_Date</th>\n",
       "      <th>...</th>\n",
       "      <th>Shape</th>\n",
       "      <th>Shape.STArea()</th>\n",
       "      <th>Shape.STLength()</th>\n",
       "      <th>GlobalID</th>\n",
       "      <th>created_user</th>\n",
       "      <th>created_date</th>\n",
       "      <th>last_edited_user</th>\n",
       "      <th>last_edited_date</th>\n",
       "      <th>x</th>\n",
       "      <th>y</th>\n",
       "    </tr>\n",
       "  </thead>\n",
       "  <tbody>\n",
       "    <tr>\n",
       "      <th>0</th>\n",
       "      <td>7</td>\n",
       "      <td>VA</td>\n",
       "      <td>12</td>\n",
       "      <td>1793</td>\n",
       "      <td>0.26</td>\n",
       "      <td>3148</td>\n",
       "      <td>0.13</td>\n",
       "      <td>9.6</td>\n",
       "      <td>20140720.0</td>\n",
       "      <td>20161101.0</td>\n",
       "      <td>...</td>\n",
       "      <td>NaN</td>\n",
       "      <td>0.00002</td>\n",
       "      <td>0.046282</td>\n",
       "      <td>{42D87962-72D6-4220-9020-AC84CC37184A}</td>\n",
       "      <td>NaN</td>\n",
       "      <td>NaN</td>\n",
       "      <td>NaN</td>\n",
       "      <td>NaN</td>\n",
       "      <td>NaN</td>\n",
       "      <td>NaN</td>\n",
       "    </tr>\n",
       "    <tr>\n",
       "      <th>1</th>\n",
       "      <td>8</td>\n",
       "      <td>VA</td>\n",
       "      <td>12</td>\n",
       "      <td>1794</td>\n",
       "      <td>0.26</td>\n",
       "      <td>3383</td>\n",
       "      <td>0.14</td>\n",
       "      <td>10.3</td>\n",
       "      <td>20140720.0</td>\n",
       "      <td>20161101.0</td>\n",
       "      <td>...</td>\n",
       "      <td>NaN</td>\n",
       "      <td>0.00002</td>\n",
       "      <td>0.046281</td>\n",
       "      <td>{4B86FE4C-B72A-4A57-AE1F-7B70BF803A66}</td>\n",
       "      <td>NaN</td>\n",
       "      <td>NaN</td>\n",
       "      <td>NaN</td>\n",
       "      <td>NaN</td>\n",
       "      <td>NaN</td>\n",
       "      <td>NaN</td>\n",
       "    </tr>\n",
       "    <tr>\n",
       "      <th>2</th>\n",
       "      <td>9</td>\n",
       "      <td>VA</td>\n",
       "      <td>12</td>\n",
       "      <td>1795</td>\n",
       "      <td>0.26</td>\n",
       "      <td>0</td>\n",
       "      <td>NaN</td>\n",
       "      <td>NaN</td>\n",
       "      <td>20140720.0</td>\n",
       "      <td>20161101.0</td>\n",
       "      <td>...</td>\n",
       "      <td>NaN</td>\n",
       "      <td>0.00002</td>\n",
       "      <td>0.046281</td>\n",
       "      <td>{1FA860A5-9866-4732-A144-67E2EB3CF209}</td>\n",
       "      <td>NaN</td>\n",
       "      <td>NaN</td>\n",
       "      <td>NaN</td>\n",
       "      <td>NaN</td>\n",
       "      <td>NaN</td>\n",
       "      <td>NaN</td>\n",
       "    </tr>\n",
       "    <tr>\n",
       "      <th>3</th>\n",
       "      <td>10</td>\n",
       "      <td>VA</td>\n",
       "      <td>12</td>\n",
       "      <td>1796</td>\n",
       "      <td>0.26</td>\n",
       "      <td>1354</td>\n",
       "      <td>0.05</td>\n",
       "      <td>4.1</td>\n",
       "      <td>20140720.0</td>\n",
       "      <td>20161101.0</td>\n",
       "      <td>...</td>\n",
       "      <td>NaN</td>\n",
       "      <td>0.00002</td>\n",
       "      <td>0.046281</td>\n",
       "      <td>{3082179D-694C-473C-86DC-9921A2DA89A0}</td>\n",
       "      <td>NaN</td>\n",
       "      <td>NaN</td>\n",
       "      <td>NaN</td>\n",
       "      <td>NaN</td>\n",
       "      <td>NaN</td>\n",
       "      <td>NaN</td>\n",
       "    </tr>\n",
       "    <tr>\n",
       "      <th>4</th>\n",
       "      <td>11</td>\n",
       "      <td>VA</td>\n",
       "      <td>12</td>\n",
       "      <td>1797</td>\n",
       "      <td>0.26</td>\n",
       "      <td>3014</td>\n",
       "      <td>0.12</td>\n",
       "      <td>9.2</td>\n",
       "      <td>20140720.0</td>\n",
       "      <td>20161101.0</td>\n",
       "      <td>...</td>\n",
       "      <td>NaN</td>\n",
       "      <td>0.00002</td>\n",
       "      <td>0.046280</td>\n",
       "      <td>{E00405F6-DE89-46FD-A625-D12E9DBD9775}</td>\n",
       "      <td>NaN</td>\n",
       "      <td>NaN</td>\n",
       "      <td>NaN</td>\n",
       "      <td>NaN</td>\n",
       "      <td>NaN</td>\n",
       "      <td>NaN</td>\n",
       "    </tr>\n",
       "  </tbody>\n",
       "</table>\n",
       "<p>5 rows × 31 columns</p>\n",
       "</div>"
      ],
      "text/plain": [
       "   OBJECTID State  Segment  stTranNum   MHW  dVol  dMean  dDensity  \\\n",
       "0         7    VA       12       1793  0.26  3148   0.13       9.6   \n",
       "1         8    VA       12       1794  0.26  3383   0.14      10.3   \n",
       "2         9    VA       12       1795  0.26     0    NaN       NaN   \n",
       "3        10    VA       12       1796  0.26  1354   0.05       4.1   \n",
       "4        11    VA       12       1797  0.26  3014   0.12       9.2   \n",
       "\n",
       "   Start_Date    End_Date  ...  Shape  Shape.STArea()  Shape.STLength()  \\\n",
       "0  20140720.0  20161101.0  ...    NaN         0.00002          0.046282   \n",
       "1  20140720.0  20161101.0  ...    NaN         0.00002          0.046281   \n",
       "2  20140720.0  20161101.0  ...    NaN         0.00002          0.046281   \n",
       "3  20140720.0  20161101.0  ...    NaN         0.00002          0.046281   \n",
       "4  20140720.0  20161101.0  ...    NaN         0.00002          0.046280   \n",
       "\n",
       "                                 GlobalID  created_user  created_date  \\\n",
       "0  {42D87962-72D6-4220-9020-AC84CC37184A}           NaN           NaN   \n",
       "1  {4B86FE4C-B72A-4A57-AE1F-7B70BF803A66}           NaN           NaN   \n",
       "2  {1FA860A5-9866-4732-A144-67E2EB3CF209}           NaN           NaN   \n",
       "3  {3082179D-694C-473C-86DC-9921A2DA89A0}           NaN           NaN   \n",
       "4  {E00405F6-DE89-46FD-A625-D12E9DBD9775}           NaN           NaN   \n",
       "\n",
       "   last_edited_user  last_edited_date   x   y  \n",
       "0               NaN               NaN NaN NaN  \n",
       "1               NaN               NaN NaN NaN  \n",
       "2               NaN               NaN NaN NaN  \n",
       "3               NaN               NaN NaN NaN  \n",
       "4               NaN               NaN NaN NaN  \n",
       "\n",
       "[5 rows x 31 columns]"
      ]
     },
     "execution_count": 2,
     "metadata": {},
     "output_type": "execute_result"
    }
   ],
   "source": [
    "df_JABLTCX = pd.read_csv(\"../RawData/beach volume change (cy) post matthew.csv\")\n",
    "df_JABLTCX.head()"
   ]
  },
  {
   "cell_type": "code",
   "execution_count": 6,
   "id": "50b75577",
   "metadata": {},
   "outputs": [],
   "source": [
    "df_JABLTCX_NC = df_JABLTCX[df_JABLTCX[\"State\"] == \"NC\"]"
   ]
  },
  {
   "cell_type": "code",
   "execution_count": 8,
   "id": "bb95cb6a",
   "metadata": {},
   "outputs": [
    {
     "data": {
      "text/plain": [
       "958"
      ]
     },
     "execution_count": 8,
     "metadata": {},
     "output_type": "execute_result"
    }
   ],
   "source": [
    "len(df_JABLTCX_NC)"
   ]
  },
  {
   "cell_type": "code",
   "execution_count": 25,
   "id": "0d0b6883",
   "metadata": {},
   "outputs": [
    {
     "data": {
      "image/png": "[encoded data removed]",
      "text/plain": [
       "<Figure size 432x288 with 1 Axes>"
      ]
     },
     "metadata": {
      "needs_background": "light"
     },
     "output_type": "display_data"
    }
   ],
   "source": [
    "# outliers are shown in final bin, actually 19050+\n",
    "bins=np.arange(-16050, 20000, 1000)\n",
    "#print(bins)\n",
    "plt.hist(np.clip(df_JABLTCX_NC['dVol'], bins[0], bins[-1]), bins=bins)\n",
    "plt.show()"
   ]
  },
  {
   "cell_type": "code",
   "execution_count": 35,
   "id": "2b1fb42f",
   "metadata": {},
   "outputs": [],
   "source": [
    "vert_disp_rxr = rxr.open_rasterio(\n",
    "    \"../ProcessedData/complete_clipped_2018_10_08_to_11_25_combined.tif\",\n",
    "    masked=True,\n",
    ")"
   ]
  },
  {
   "cell_type": "code",
   "execution_count": 43,
   "id": "e1e82d71",
   "metadata": {},
   "outputs": [],
   "source": [
    "vert_disp = vert_disp_rxr.values[0]\n",
    "vert_disp[vert_disp==0]=['nan']\n",
    "vert_disp = vert_disp[np.logical_not(np.isnan(vert_disp))]\n",
    "vert_disp = vert_disp.flatten()"
   ]
  },
  {
   "cell_type": "code",
   "execution_count": null,
   "id": "b44c500d",
   "metadata": {},
   "outputs": [],
   "source": [
    "# now we need to figure out how to directly compare them... maybe reproject vert_disp so it has the same number of values\n",
    "# as dVol?"
   ]
  },
  {
   "cell_type": "code",
   "execution_count": 44,
   "id": "7aaa19fc",
   "metadata": {},
   "outputs": [
    {
     "ename": "ValueError",
     "evalue": "all the input array dimensions for the concatenation axis must match exactly, but along dimension 1, the array at index 0 has size 6691222 and the array at index 1 has size 958",
     "output_type": "error",
     "traceback": [
      "\u001b[0;31m---------------------------------------------------------------------------\u001b[0m",
      "\u001b[0;31mValueError\u001b[0m                                Traceback (most recent call last)",
      "\u001b[0;32m/var/folders/l4/21tgjb0s6gvct8ffnv0qvf3c0000gn/T/ipykernel_33729/3090817450.py\u001b[0m in \u001b[0;36m<module>\u001b[0;34m\u001b[0m\n\u001b[0;32m----> 1\u001b[0;31m \u001b[0mslope\u001b[0m\u001b[0;34m,\u001b[0m \u001b[0mintercept\u001b[0m\u001b[0;34m,\u001b[0m \u001b[0mr_value\u001b[0m\u001b[0;34m,\u001b[0m \u001b[0m_\u001b[0m\u001b[0;34m,\u001b[0m \u001b[0m_\u001b[0m \u001b[0;34m=\u001b[0m \u001b[0mstats\u001b[0m\u001b[0;34m.\u001b[0m\u001b[0mlinregress\u001b[0m\u001b[0;34m(\u001b[0m\u001b[0mvert_disp\u001b[0m\u001b[0;34m,\u001b[0m \u001b[0mdf_JABLTCX_NC\u001b[0m\u001b[0;34m[\u001b[0m\u001b[0;34m'dVol'\u001b[0m\u001b[0;34m]\u001b[0m\u001b[0;34m)\u001b[0m\u001b[0;34m\u001b[0m\u001b[0;34m\u001b[0m\u001b[0m\n\u001b[0m\u001b[1;32m      2\u001b[0m \u001b[0;34m\u001b[0m\u001b[0m\n\u001b[1;32m      3\u001b[0m print(\"slope:\", slope,\n\u001b[1;32m      4\u001b[0m       \u001b[0;34m\"\\nintercept:\"\u001b[0m\u001b[0;34m,\u001b[0m \u001b[0mintercept\u001b[0m\u001b[0;34m,\u001b[0m\u001b[0;34m\u001b[0m\u001b[0;34m\u001b[0m\u001b[0m\n\u001b[1;32m      5\u001b[0m       \"\\nr squared:\", r_value**2)\n",
      "\u001b[0;32m~/opt/anaconda3/envs/geostats_env/lib/python3.8/site-packages/scipy/stats/_stats_mstats_common.py\u001b[0m in \u001b[0;36mlinregress\u001b[0;34m(x, y)\u001b[0m\n\u001b[1;32m    114\u001b[0m \u001b[0;34m\u001b[0m\u001b[0m\n\u001b[1;32m    115\u001b[0m     \u001b[0;31m# average sum of squares:\u001b[0m\u001b[0;34m\u001b[0m\u001b[0;34m\u001b[0m\u001b[0;34m\u001b[0m\u001b[0m\n\u001b[0;32m--> 116\u001b[0;31m     \u001b[0mssxm\u001b[0m\u001b[0;34m,\u001b[0m \u001b[0mssxym\u001b[0m\u001b[0;34m,\u001b[0m \u001b[0mssyxm\u001b[0m\u001b[0;34m,\u001b[0m \u001b[0mssym\u001b[0m \u001b[0;34m=\u001b[0m \u001b[0mnp\u001b[0m\u001b[0;34m.\u001b[0m\u001b[0mcov\u001b[0m\u001b[0;34m(\u001b[0m\u001b[0mx\u001b[0m\u001b[0;34m,\u001b[0m \u001b[0my\u001b[0m\u001b[0;34m,\u001b[0m \u001b[0mbias\u001b[0m\u001b[0;34m=\u001b[0m\u001b[0;36m1\u001b[0m\u001b[0;34m)\u001b[0m\u001b[0;34m.\u001b[0m\u001b[0mflat\u001b[0m\u001b[0;34m\u001b[0m\u001b[0;34m\u001b[0m\u001b[0m\n\u001b[0m\u001b[1;32m    117\u001b[0m     \u001b[0mr_num\u001b[0m \u001b[0;34m=\u001b[0m \u001b[0mssxym\u001b[0m\u001b[0;34m\u001b[0m\u001b[0;34m\u001b[0m\u001b[0m\n\u001b[1;32m    118\u001b[0m     \u001b[0mr_den\u001b[0m \u001b[0;34m=\u001b[0m \u001b[0mnp\u001b[0m\u001b[0;34m.\u001b[0m\u001b[0msqrt\u001b[0m\u001b[0;34m(\u001b[0m\u001b[0mssxm\u001b[0m \u001b[0;34m*\u001b[0m \u001b[0mssym\u001b[0m\u001b[0;34m)\u001b[0m\u001b[0;34m\u001b[0m\u001b[0;34m\u001b[0m\u001b[0m\n",
      "\u001b[0;32m<__array_function__ internals>\u001b[0m in \u001b[0;36mcov\u001b[0;34m(*args, **kwargs)\u001b[0m\n",
      "\u001b[0;32m~/opt/anaconda3/envs/geostats_env/lib/python3.8/site-packages/numpy/lib/function_base.py\u001b[0m in \u001b[0;36mcov\u001b[0;34m(m, y, rowvar, bias, ddof, fweights, aweights)\u001b[0m\n\u001b[1;32m   2413\u001b[0m         \u001b[0;32mif\u001b[0m \u001b[0;32mnot\u001b[0m \u001b[0mrowvar\u001b[0m \u001b[0;32mand\u001b[0m \u001b[0my\u001b[0m\u001b[0;34m.\u001b[0m\u001b[0mshape\u001b[0m\u001b[0;34m[\u001b[0m\u001b[0;36m0\u001b[0m\u001b[0;34m]\u001b[0m \u001b[0;34m!=\u001b[0m \u001b[0;36m1\u001b[0m\u001b[0;34m:\u001b[0m\u001b[0;34m\u001b[0m\u001b[0;34m\u001b[0m\u001b[0m\n\u001b[1;32m   2414\u001b[0m             \u001b[0my\u001b[0m \u001b[0;34m=\u001b[0m \u001b[0my\u001b[0m\u001b[0;34m.\u001b[0m\u001b[0mT\u001b[0m\u001b[0;34m\u001b[0m\u001b[0;34m\u001b[0m\u001b[0m\n\u001b[0;32m-> 2415\u001b[0;31m         \u001b[0mX\u001b[0m \u001b[0;34m=\u001b[0m \u001b[0mnp\u001b[0m\u001b[0;34m.\u001b[0m\u001b[0mconcatenate\u001b[0m\u001b[0;34m(\u001b[0m\u001b[0;34m(\u001b[0m\u001b[0mX\u001b[0m\u001b[0;34m,\u001b[0m \u001b[0my\u001b[0m\u001b[0;34m)\u001b[0m\u001b[0;34m,\u001b[0m \u001b[0maxis\u001b[0m\u001b[0;34m=\u001b[0m\u001b[0;36m0\u001b[0m\u001b[0;34m)\u001b[0m\u001b[0;34m\u001b[0m\u001b[0;34m\u001b[0m\u001b[0m\n\u001b[0m\u001b[1;32m   2416\u001b[0m \u001b[0;34m\u001b[0m\u001b[0m\n\u001b[1;32m   2417\u001b[0m     \u001b[0;32mif\u001b[0m \u001b[0mddof\u001b[0m \u001b[0;32mis\u001b[0m \u001b[0;32mNone\u001b[0m\u001b[0;34m:\u001b[0m\u001b[0;34m\u001b[0m\u001b[0;34m\u001b[0m\u001b[0m\n",
      "\u001b[0;32m<__array_function__ internals>\u001b[0m in \u001b[0;36mconcatenate\u001b[0;34m(*args, **kwargs)\u001b[0m\n",
      "\u001b[0;31mValueError\u001b[0m: all the input array dimensions for the concatenation axis must match exactly, but along dimension 1, the array at index 0 has size 6691222 and the array at index 1 has size 958"
     ]
    }
   ],
   "source": [
    "slope, intercept, r_value, _, _ = stats.linregress(vert_disp, df_JABLTCX_NC['dVol'])\n",
    "\n",
    "print(\"slope:\", slope,\n",
    "      \"\\nintercept:\", intercept,\n",
    "      \"\\nr squared:\", r_value**2)"
   ]
  },
  {
   "cell_type": "code",
   "execution_count": null,
   "id": "77ab9397",
   "metadata": {},
   "outputs": [],
   "source": []
  }
 ],
 "metadata": {
  "kernelspec": {
   "display_name": "geostats_env",
   "language": "python",
   "name": "geostats_env"
  },
  "language_info": {
   "codemirror_mode": {
    "name": "ipython",
    "version": 3
   },
   "file_extension": ".py",
   "mimetype": "text/x-python",
   "name": "python",
   "nbconvert_exporter": "python",
   "pygments_lexer": "ipython3",
   "version": "3.8.2"
  }
 },
 "nbformat": 4,
 "nbformat_minor": 5
}
